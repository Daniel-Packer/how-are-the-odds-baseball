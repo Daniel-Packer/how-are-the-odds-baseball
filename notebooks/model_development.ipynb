{
 "cells": [
  {
   "cell_type": "code",
   "execution_count": 4,
   "metadata": {},
   "outputs": [],
   "source": [
    "%load_ext autoreload\n",
    "%autoreload 2"
   ]
  },
  {
   "cell_type": "code",
   "execution_count": 3,
   "metadata": {},
   "outputs": [],
   "source": [
    "import numpy as np\n",
    "import torch\n",
    "import pandas as pd\n",
    "import ott\n",
    "import jax.numpy as jnp\n",
    "import matplotlib.pyplot as plt\n",
    "import seaborn as sns\n",
    "import scipy as sp\n",
    "from utils.utils import bucket_outcomes, prep_labels, cross_entropy, mean_cross_entropy_df, mean_cross_entropy, get_frequent_players_only, weighted_avg\n",
    "\n",
    "from pathlib import Path\n",
    "import os\n",
    "from models.naive_model import NaiveModel\n",
    "from models.naivest_model import NaivestModel\n",
    "from models.reg_naive_model import RegNaiveModel\n",
    "from models.model_assessor import ModelAssessor\n",
    "from models.pooling_model import PoolingModel\n",
    "\n",
    "import torch"
   ]
  },
  {
   "cell_type": "code",
   "execution_count": 2,
   "metadata": {},
   "outputs": [
    {
     "data": {
      "text/plain": [
       "tensor(1.)"
      ]
     },
     "execution_count": 2,
     "metadata": {},
     "output_type": "execute_result"
    }
   ],
   "source": [
    "torch.tensor(1.)"
   ]
  },
  {
   "cell_type": "code",
   "execution_count": 24,
   "metadata": {},
   "outputs": [],
   "source": [
    "p_data = Path(\"../data/raw_pitch_data/\")\n",
    "train_data = pd.concat([pd.read_csv(p_data / csv_path) for csv_path in os.listdir(p_data)[5:10]])\n",
    "model_assessor = ModelAssessor(train_data)"
   ]
  },
  {
   "cell_type": "code",
   "execution_count": 25,
   "metadata": {},
   "outputs": [],
   "source": [
    "pooling_model = PoolingModel(pooling_strength=0.8)\n",
    "pooling_model.fit(train_data)"
   ]
  },
  {
   "cell_type": "code",
   "execution_count": 26,
   "metadata": {},
   "outputs": [
    {
     "data": {
      "text/html": [
       "<div>\n",
       "<style scoped>\n",
       "    .dataframe tbody tr th:only-of-type {\n",
       "        vertical-align: middle;\n",
       "    }\n",
       "\n",
       "    .dataframe tbody tr th {\n",
       "        vertical-align: top;\n",
       "    }\n",
       "\n",
       "    .dataframe thead th {\n",
       "        text-align: right;\n",
       "    }\n",
       "</style>\n",
       "<table border=\"1\" class=\"dataframe\">\n",
       "  <thead>\n",
       "    <tr style=\"text-align: right;\">\n",
       "      <th></th>\n",
       "      <th>double_or_triple</th>\n",
       "      <th>fielded_out</th>\n",
       "      <th>home_run</th>\n",
       "      <th>other</th>\n",
       "      <th>single</th>\n",
       "      <th>strikeout</th>\n",
       "      <th>walk</th>\n",
       "    </tr>\n",
       "  </thead>\n",
       "  <tbody>\n",
       "    <tr>\n",
       "      <th>0</th>\n",
       "      <td>0.046390</td>\n",
       "      <td>0.435230</td>\n",
       "      <td>0.040372</td>\n",
       "      <td>0.014841</td>\n",
       "      <td>0.135508</td>\n",
       "      <td>0.230099</td>\n",
       "      <td>0.097560</td>\n",
       "    </tr>\n",
       "    <tr>\n",
       "      <th>1</th>\n",
       "      <td>0.032545</td>\n",
       "      <td>0.305407</td>\n",
       "      <td>0.025696</td>\n",
       "      <td>0.005814</td>\n",
       "      <td>0.092715</td>\n",
       "      <td>0.257581</td>\n",
       "      <td>0.280243</td>\n",
       "    </tr>\n",
       "    <tr>\n",
       "      <th>2</th>\n",
       "      <td>0.032545</td>\n",
       "      <td>0.305407</td>\n",
       "      <td>0.025696</td>\n",
       "      <td>0.005814</td>\n",
       "      <td>0.092715</td>\n",
       "      <td>0.257581</td>\n",
       "      <td>0.280243</td>\n",
       "    </tr>\n",
       "    <tr>\n",
       "      <th>3</th>\n",
       "      <td>0.046234</td>\n",
       "      <td>0.355442</td>\n",
       "      <td>0.021095</td>\n",
       "      <td>0.013889</td>\n",
       "      <td>0.089995</td>\n",
       "      <td>0.361426</td>\n",
       "      <td>0.111918</td>\n",
       "    </tr>\n",
       "    <tr>\n",
       "      <th>4</th>\n",
       "      <td>0.046234</td>\n",
       "      <td>0.355442</td>\n",
       "      <td>0.021095</td>\n",
       "      <td>0.013889</td>\n",
       "      <td>0.089995</td>\n",
       "      <td>0.361426</td>\n",
       "      <td>0.111918</td>\n",
       "    </tr>\n",
       "    <tr>\n",
       "      <th>...</th>\n",
       "      <td>...</td>\n",
       "      <td>...</td>\n",
       "      <td>...</td>\n",
       "      <td>...</td>\n",
       "      <td>...</td>\n",
       "      <td>...</td>\n",
       "      <td>...</td>\n",
       "    </tr>\n",
       "    <tr>\n",
       "      <th>473833</th>\n",
       "      <td>0.056403</td>\n",
       "      <td>0.361767</td>\n",
       "      <td>0.051857</td>\n",
       "      <td>0.010188</td>\n",
       "      <td>0.137815</td>\n",
       "      <td>0.227449</td>\n",
       "      <td>0.154522</td>\n",
       "    </tr>\n",
       "    <tr>\n",
       "      <th>473834</th>\n",
       "      <td>0.037377</td>\n",
       "      <td>0.381832</td>\n",
       "      <td>0.051326</td>\n",
       "      <td>0.015109</td>\n",
       "      <td>0.103906</td>\n",
       "      <td>0.165657</td>\n",
       "      <td>0.244794</td>\n",
       "    </tr>\n",
       "    <tr>\n",
       "      <th>473835</th>\n",
       "      <td>0.045914</td>\n",
       "      <td>0.406035</td>\n",
       "      <td>0.043926</td>\n",
       "      <td>0.020581</td>\n",
       "      <td>0.142870</td>\n",
       "      <td>0.203620</td>\n",
       "      <td>0.137055</td>\n",
       "    </tr>\n",
       "    <tr>\n",
       "      <th>473836</th>\n",
       "      <td>0.055854</td>\n",
       "      <td>0.440632</td>\n",
       "      <td>0.039054</td>\n",
       "      <td>0.018687</td>\n",
       "      <td>0.154672</td>\n",
       "      <td>0.220476</td>\n",
       "      <td>0.070626</td>\n",
       "    </tr>\n",
       "    <tr>\n",
       "      <th>473837</th>\n",
       "      <td>0.044319</td>\n",
       "      <td>0.412260</td>\n",
       "      <td>0.040733</td>\n",
       "      <td>0.012958</td>\n",
       "      <td>0.132680</td>\n",
       "      <td>0.253580</td>\n",
       "      <td>0.103470</td>\n",
       "    </tr>\n",
       "  </tbody>\n",
       "</table>\n",
       "<p>473838 rows × 7 columns</p>\n",
       "</div>"
      ],
      "text/plain": [
       "        double_or_triple  fielded_out  home_run     other    single  \\\n",
       "0               0.046390     0.435230  0.040372  0.014841  0.135508   \n",
       "1               0.032545     0.305407  0.025696  0.005814  0.092715   \n",
       "2               0.032545     0.305407  0.025696  0.005814  0.092715   \n",
       "3               0.046234     0.355442  0.021095  0.013889  0.089995   \n",
       "4               0.046234     0.355442  0.021095  0.013889  0.089995   \n",
       "...                  ...          ...       ...       ...       ...   \n",
       "473833          0.056403     0.361767  0.051857  0.010188  0.137815   \n",
       "473834          0.037377     0.381832  0.051326  0.015109  0.103906   \n",
       "473835          0.045914     0.406035  0.043926  0.020581  0.142870   \n",
       "473836          0.055854     0.440632  0.039054  0.018687  0.154672   \n",
       "473837          0.044319     0.412260  0.040733  0.012958  0.132680   \n",
       "\n",
       "        strikeout      walk  \n",
       "0        0.230099  0.097560  \n",
       "1        0.257581  0.280243  \n",
       "2        0.257581  0.280243  \n",
       "3        0.361426  0.111918  \n",
       "4        0.361426  0.111918  \n",
       "...           ...       ...  \n",
       "473833   0.227449  0.154522  \n",
       "473834   0.165657  0.244794  \n",
       "473835   0.203620  0.137055  \n",
       "473836   0.220476  0.070626  \n",
       "473837   0.253580  0.103470  \n",
       "\n",
       "[473838 rows x 7 columns]"
      ]
     },
     "execution_count": 26,
     "metadata": {},
     "output_type": "execute_result"
    }
   ],
   "source": [
    "pooling_model.predict_df(train_data)"
   ]
  },
  {
   "cell_type": "code",
   "execution_count": 11,
   "metadata": {},
   "outputs": [
    {
     "data": {
      "text/plain": [
       "(748, 4, 3, 7)"
      ]
     },
     "execution_count": 11,
     "metadata": {},
     "output_type": "execute_result"
    }
   ],
   "source": [
    "pooling_model.pitcher_outcomes_tensor.shape"
   ]
  },
  {
   "cell_type": "code",
   "execution_count": 49,
   "metadata": {},
   "outputs": [
    {
     "name": "stderr",
     "output_type": "stream",
     "text": [
      "[autoreload of models.pooling_model failed: Traceback (most recent call last):\n",
      "  File \"/home/packer.61/mambaforge/envs/pyml/lib/python3.11/site-packages/IPython/extensions/autoreload.py\", line 276, in check\n",
      "    superreload(m, reload, self.old_objects)\n",
      "  File \"/home/packer.61/mambaforge/envs/pyml/lib/python3.11/site-packages/IPython/extensions/autoreload.py\", line 475, in superreload\n",
      "    module = reload(module)\n",
      "             ^^^^^^^^^^^^^^\n",
      "  File \"/home/packer.61/mambaforge/envs/pyml/lib/python3.11/importlib/__init__.py\", line 169, in reload\n",
      "    _bootstrap._exec(spec, module)\n",
      "  File \"<frozen importlib._bootstrap>\", line 621, in _exec\n",
      "  File \"<frozen importlib._bootstrap_external>\", line 936, in exec_module\n",
      "  File \"<frozen importlib._bootstrap_external>\", line 1074, in get_code\n",
      "  File \"<frozen importlib._bootstrap_external>\", line 1004, in source_to_code\n",
      "  File \"<frozen importlib._bootstrap>\", line 241, in _call_with_frames_removed\n",
      "  File \"/home/packer.61/Documents/baseball/new/models_2/models/pooling_model.py\", line 111\n",
      "    logit(self.),\n",
      "               ^\n",
      "SyntaxError: invalid syntax\n",
      "]\n"
     ]
    }
   ],
   "source": [
    "pts = np.linspace(0, 6203)\n"
   ]
  },
  {
   "cell_type": "code",
   "execution_count": 48,
   "metadata": {},
   "outputs": [
    {
     "data": {
      "text/plain": [
       "[<matplotlib.lines.Line2D at 0x2ac463912390>]"
      ]
     },
     "execution_count": 48,
     "metadata": {},
     "output_type": "execute_result"
    },
    {
     "data": {
      "image/png": "[encoded data removed]",
      "text/plain": [
       "<Figure size 640x480 with 1 Axes>"
      ]
     },
     "metadata": {},
     "output_type": "display_data"
    }
   ],
   "source": [
    "logit(pts)\n",
    "plt.plot(pts, logit(pts))\n"
   ]
  },
  {
   "cell_type": "code",
   "execution_count": null,
   "metadata": {},
   "outputs": [],
   "source": []
  }
 ],
 "metadata": {
  "kernelspec": {
   "display_name": "pyml",
   "language": "python",
   "name": "python3"
  },
  "language_info": {
   "codemirror_mode": {
    "name": "ipython",
    "version": 3
   },
   "file_extension": ".py",
   "mimetype": "text/x-python",
   "name": "python",
   "nbconvert_exporter": "python",
   "pygments_lexer": "ipython3",
   "version": "3.11.5"
  }
 },
 "nbformat": 4,
 "nbformat_minor": 2
}
